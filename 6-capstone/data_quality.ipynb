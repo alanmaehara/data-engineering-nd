{
 "cells": [
  {
   "cell_type": "markdown",
   "metadata": {
    "editable": true
   },
   "source": [
    "# Data Engineering Capstone Project\n",
    "\n",
    "In this jupyter notebook file, we will check a sample of the data sources and go through the entire ETL process before writing the main etl file in `etl.py`\n",
    "\n",
    "## 1. Imports Libraries"
   ]
  },
  {
   "cell_type": "code",
   "execution_count": 97,
   "metadata": {
    "editable": true
   },
   "outputs": [],
   "source": [
    "# Do all imports and installs here\n",
    "import pandas as pd"
   ]
  },
  {
   "cell_type": "markdown",
   "metadata": {
    "editable": true
   },
   "source": [
    "## 2. Data Quality checks and Data Cleaning\n",
    "Here we check for inconsistencies on each data source. If any, we will fix them and save in a separate file"
   ]
  },
  {
   "cell_type": "markdown",
   "metadata": {
    "editable": true
   },
   "source": [
    "#### 2.1. Airport Code Table"
   ]
  },
  {
   "cell_type": "code",
   "execution_count": 105,
   "metadata": {
    "editable": true
   },
   "outputs": [],
   "source": [
    "# Read in the data here\n",
    "airport = pd.read_csv('airport-codes_csv.csv')"
   ]
  },
  {
   "cell_type": "code",
   "execution_count": 106,
   "metadata": {
    "editable": true
   },
   "outputs": [
    {
     "data": {
      "text/html": [
       "<div>\n",
       "<style scoped>\n",
       "    .dataframe tbody tr th:only-of-type {\n",
       "        vertical-align: middle;\n",
       "    }\n",
       "\n",
       "    .dataframe tbody tr th {\n",
       "        vertical-align: top;\n",
       "    }\n",
       "\n",
       "    .dataframe thead th {\n",
       "        text-align: right;\n",
       "    }\n",
       "</style>\n",
       "<table border=\"1\" class=\"dataframe\">\n",
       "  <thead>\n",
       "    <tr style=\"text-align: right;\">\n",
       "      <th></th>\n",
       "      <th>ident</th>\n",
       "      <th>type</th>\n",
       "      <th>name</th>\n",
       "      <th>elevation_ft</th>\n",
       "      <th>continent</th>\n",
       "      <th>iso_country</th>\n",
       "      <th>iso_region</th>\n",
       "      <th>municipality</th>\n",
       "      <th>gps_code</th>\n",
       "      <th>iata_code</th>\n",
       "      <th>local_code</th>\n",
       "      <th>coordinates</th>\n",
       "    </tr>\n",
       "  </thead>\n",
       "  <tbody>\n",
       "    <tr>\n",
       "      <th>0</th>\n",
       "      <td>00A</td>\n",
       "      <td>heliport</td>\n",
       "      <td>Total Rf Heliport</td>\n",
       "      <td>11.0</td>\n",
       "      <td>NaN</td>\n",
       "      <td>US</td>\n",
       "      <td>US-PA</td>\n",
       "      <td>Bensalem</td>\n",
       "      <td>00A</td>\n",
       "      <td>NaN</td>\n",
       "      <td>00A</td>\n",
       "      <td>-74.93360137939453, 40.07080078125</td>\n",
       "    </tr>\n",
       "    <tr>\n",
       "      <th>1</th>\n",
       "      <td>00AA</td>\n",
       "      <td>small_airport</td>\n",
       "      <td>Aero B Ranch Airport</td>\n",
       "      <td>3435.0</td>\n",
       "      <td>NaN</td>\n",
       "      <td>US</td>\n",
       "      <td>US-KS</td>\n",
       "      <td>Leoti</td>\n",
       "      <td>00AA</td>\n",
       "      <td>NaN</td>\n",
       "      <td>00AA</td>\n",
       "      <td>-101.473911, 38.704022</td>\n",
       "    </tr>\n",
       "  </tbody>\n",
       "</table>\n",
       "</div>"
      ],
      "text/plain": [
       "  ident           type                  name  elevation_ft continent  \\\n",
       "0   00A       heliport     Total Rf Heliport          11.0       NaN   \n",
       "1  00AA  small_airport  Aero B Ranch Airport        3435.0       NaN   \n",
       "\n",
       "  iso_country iso_region municipality gps_code iata_code local_code  \\\n",
       "0          US      US-PA     Bensalem      00A       NaN        00A   \n",
       "1          US      US-KS        Leoti     00AA       NaN       00AA   \n",
       "\n",
       "                          coordinates  \n",
       "0  -74.93360137939453, 40.07080078125  \n",
       "1              -101.473911, 38.704022  "
      ]
     },
     "execution_count": 106,
     "metadata": {},
     "output_type": "execute_result"
    }
   ],
   "source": [
    "# check first rows\n",
    "airport.head(2)"
   ]
  },
  {
   "cell_type": "code",
   "execution_count": 107,
   "metadata": {
    "editable": true
   },
   "outputs": [
    {
     "name": "stdout",
     "output_type": "stream",
     "text": [
      "<class 'pandas.core.frame.DataFrame'>\n",
      "RangeIndex: 55075 entries, 0 to 55074\n",
      "Data columns (total 12 columns):\n",
      "ident           55075 non-null object\n",
      "type            55075 non-null object\n",
      "name            55075 non-null object\n",
      "elevation_ft    48069 non-null float64\n",
      "continent       27356 non-null object\n",
      "iso_country     54828 non-null object\n",
      "iso_region      55075 non-null object\n",
      "municipality    49399 non-null object\n",
      "gps_code        41030 non-null object\n",
      "iata_code       9189 non-null object\n",
      "local_code      28686 non-null object\n",
      "coordinates     55075 non-null object\n",
      "dtypes: float64(1), object(11)\n",
      "memory usage: 5.0+ MB\n"
     ]
    }
   ],
   "source": [
    "# check data types\n",
    "airport.info()"
   ]
  },
  {
   "cell_type": "code",
   "execution_count": 108,
   "metadata": {
    "editable": true
   },
   "outputs": [],
   "source": [
    "# transform data types\n",
    "airport.loc[airport['elevation_ft'].isna(), 'elevation_ft'] = 0 \n",
    "airport['elevation_ft'] = airport['elevation_ft'].astype(int)"
   ]
  },
  {
   "cell_type": "code",
   "execution_count": 109,
   "metadata": {
    "editable": true
   },
   "outputs": [
    {
     "data": {
      "text/html": [
       "<div>\n",
       "<style scoped>\n",
       "    .dataframe tbody tr th:only-of-type {\n",
       "        vertical-align: middle;\n",
       "    }\n",
       "\n",
       "    .dataframe tbody tr th {\n",
       "        vertical-align: top;\n",
       "    }\n",
       "\n",
       "    .dataframe thead th {\n",
       "        text-align: right;\n",
       "    }\n",
       "</style>\n",
       "<table border=\"1\" class=\"dataframe\">\n",
       "  <thead>\n",
       "    <tr style=\"text-align: right;\">\n",
       "      <th></th>\n",
       "      <th>count</th>\n",
       "      <th>mean</th>\n",
       "      <th>std</th>\n",
       "      <th>min</th>\n",
       "      <th>25%</th>\n",
       "      <th>50%</th>\n",
       "      <th>75%</th>\n",
       "      <th>max</th>\n",
       "    </tr>\n",
       "  </thead>\n",
       "  <tbody>\n",
       "    <tr>\n",
       "      <th>elevation_ft</th>\n",
       "      <td>55075.0</td>\n",
       "      <td>1082.950867</td>\n",
       "      <td>1553.023286</td>\n",
       "      <td>-1266.0</td>\n",
       "      <td>70.0</td>\n",
       "      <td>572.0</td>\n",
       "      <td>1300.0</td>\n",
       "      <td>22000.0</td>\n",
       "    </tr>\n",
       "  </tbody>\n",
       "</table>\n",
       "</div>"
      ],
      "text/plain": [
       "                count         mean          std     min   25%    50%     75%  \\\n",
       "elevation_ft  55075.0  1082.950867  1553.023286 -1266.0  70.0  572.0  1300.0   \n",
       "\n",
       "                  max  \n",
       "elevation_ft  22000.0  "
      ]
     },
     "execution_count": 109,
     "metadata": {},
     "output_type": "execute_result"
    }
   ],
   "source": [
    "# check distribution elevation_ft\n",
    "pd.DataFrame(airport['elevation_ft'].describe()).T"
   ]
  },
  {
   "cell_type": "code",
   "execution_count": 110,
   "metadata": {
    "editable": true
   },
   "outputs": [
    {
     "data": {
      "text/plain": [
       "NaN    27719\n",
       "EU      7840\n",
       "SA      7709\n",
       "AS      5350\n",
       "AF      3362\n",
       "OC      3067\n",
       "AN        28\n",
       "Name: continent, dtype: int64"
      ]
     },
     "execution_count": 110,
     "metadata": {},
     "output_type": "execute_result"
    }
   ],
   "source": [
    "# distribution - continent (NaN values can be cleaned according to column country)\n",
    "airport['continent'].value_counts(dropna=False)"
   ]
  },
  {
   "cell_type": "code",
   "execution_count": 111,
   "metadata": {
    "editable": true
   },
   "outputs": [
    {
     "data": {
      "text/plain": [
       "array(['US', 'PR', 'MH', 'MP', 'GU', 'SO', 'AQ', 'GB', 'PG', 'AD', 'SD',\n",
       "       'SA', 'AE', 'SS', 'ES', 'CN', 'AF', 'LK', 'SB', 'CO', 'AU', 'MG',\n",
       "       'TD', 'AL', 'AM', 'MX', 'MZ', 'PW', 'NR', 'AO', 'AR', 'AS', 'AT',\n",
       "       'ZZ', 'GA', 'AZ', 'BA', 'BB', 'BE', 'DE', 'BF', 'BG', 'GL', 'BH',\n",
       "       'BI', 'IS', 'BJ', 'OM', 'XK', 'BM', 'KE', 'PH', 'BO', 'BR', 'BS',\n",
       "       'CV', 'BW', 'FJ', 'BY', 'UA', 'LR', 'BZ', 'CA', 'CD', 'CF', 'CG',\n",
       "       'MR', 'CH', 'CL', 'CM', 'MA', 'CR', 'CU', 'CY', 'CZ', 'SK', 'PA',\n",
       "       'DZ', 'ID', 'GH', 'RU', 'CI', 'DK', 'NG', 'DO', 'NE', 'HR', 'TN',\n",
       "       'TG', 'EC', 'EE', 'FI', 'EG', 'GG', 'JE', 'IM', 'FK', 'EH', 'NL',\n",
       "       'IE', 'FO', 'LU', 'NO', 'PL', 'ER', 'MN', 'PT', 'SE', 'ET', 'LV',\n",
       "       'LT', 'ZA', 'SZ', 'GQ', 'SH', 'MU', 'IO', 'ZM', 'FM', 'KM', 'YT',\n",
       "       'RE', 'TF', 'ST', 'FR', 'SC', 'ZW', 'MW', 'LS', nan, 'ML', 'GM',\n",
       "       'GE', 'GF', 'SL', 'GW', 'GN', 'SN', 'GR', 'GT', 'TZ', 'GY', 'SR',\n",
       "       'DJ', 'HK', 'LY', 'HN', 'VN', 'KZ', 'RW', 'HT', 'HU', 'UG', 'TL',\n",
       "       'IL', 'IN', 'IQ', 'IR', 'JP', 'IT', 'JM', 'JO', 'KG', 'BD', 'KI',\n",
       "       'KH', 'KP', 'KR', 'KW', 'LA', 'MY', 'PM', 'SI', 'PS', 'MT', 'MC',\n",
       "       'RO', 'LI', 'TR', 'MD', 'MK', 'GI', 'RS', 'ME', 'TC', 'GD', 'MM',\n",
       "       'NI', 'SV', 'MF', 'MV', 'KY', 'NC', 'CK', 'TO', 'TV', 'NU', 'WF',\n",
       "       'NP', 'WS', 'PF', 'VU', 'NZ', 'LB', 'PK', 'SY', 'QA', 'YE', 'UM',\n",
       "       'PE', 'TH', 'PY', 'TW', 'SG', 'VI', 'SM', 'UY', 'VE', 'AG', 'DM',\n",
       "       'GP', 'MQ', 'BL', 'TJ', 'KN', 'LC', 'TM', 'AW', 'BQ', 'CW', 'SX',\n",
       "       'AI', 'MS', 'TT', 'VG', 'VC', 'UZ', 'VA', 'MO', 'BT', 'BN', 'CC',\n",
       "       'CX', 'NF'], dtype=object)"
      ]
     },
     "execution_count": 111,
     "metadata": {},
     "output_type": "execute_result"
    }
   ],
   "source": [
    "# distribution - country (there are nan values - country can be found by geolocation)\n",
    "airport['iso_country'].unique()"
   ]
  },
  {
   "cell_type": "code",
   "execution_count": 112,
   "metadata": {
    "editable": true
   },
   "outputs": [
    {
     "name": "stdout",
     "output_type": "stream",
     "text": [
      "<class 'pandas.core.frame.DataFrame'>\n",
      "Int64Index: 55075 entries, 0 to 55074\n",
      "Data columns (total 12 columns):\n",
      "ident           55075 non-null object\n",
      "type            55075 non-null object\n",
      "name            55075 non-null object\n",
      "elevation_ft    55075 non-null int64\n",
      "continent       27356 non-null object\n",
      "iso_country     54828 non-null object\n",
      "iso_region      55075 non-null object\n",
      "municipality    49399 non-null object\n",
      "gps_code        41030 non-null object\n",
      "iata_code       9189 non-null object\n",
      "local_code      28686 non-null object\n",
      "coordinates     55075 non-null object\n",
      "dtypes: int64(1), object(11)\n",
      "memory usage: 5.5+ MB\n"
     ]
    }
   ],
   "source": [
    "# airport id is unique - no need to remove rows\n",
    "aux1 = airport[airport['ident'].isnull() | ~airport[airport['ident'].notnull()].duplicated(subset='ident',keep='first')]\n",
    "aux1.info()"
   ]
  },
  {
   "cell_type": "code",
   "execution_count": 113,
   "metadata": {
    "editable": true
   },
   "outputs": [],
   "source": [
    "# distribution - local_code (fill local_code with ident column)\n",
    "airport.loc[airport['local_code'].isna(), 'local_code'] = airport['ident']"
   ]
  },
  {
   "cell_type": "code",
   "execution_count": 137,
   "metadata": {
    "editable": true
   },
   "outputs": [
    {
     "data": {
      "text/plain": [
       "KR-0696    1\n",
       "BLE        1\n",
       "SWNS       1\n",
       "UZ-0139    1\n",
       "ORBD       1\n",
       "Name: local_code, dtype: int64"
      ]
     },
     "execution_count": 137,
     "metadata": {},
     "output_type": "execute_result"
    }
   ],
   "source": [
    "# Many local codes with duplicates.\n",
    "airport['local_code'].value_counts(ascending=False).head(5)"
   ]
  },
  {
   "cell_type": "code",
   "execution_count": 115,
   "metadata": {
    "editable": true
   },
   "outputs": [],
   "source": [
    "# remove duplicate local_code entries\n",
    "airport = airport.drop_duplicates(subset =\"local_code\", \n",
    "                     keep = \"first\") "
   ]
  },
  {
   "cell_type": "code",
   "execution_count": 19,
   "metadata": {
    "editable": true
   },
   "outputs": [
    {
     "data": {
      "text/plain": [
       "(52998, 12)"
      ]
     },
     "execution_count": 19,
     "metadata": {},
     "output_type": "execute_result"
    }
   ],
   "source": [
    "# size after removing duplicates\n",
    "airport.shape"
   ]
  },
  {
   "cell_type": "code",
   "execution_count": 20,
   "metadata": {
    "editable": true
   },
   "outputs": [],
   "source": [
    "# # check if there's duplicates on local_code - no duplicates\n",
    "airport['local_code'].value_counts(ascending=False).head(5)"
   ]
  },
  {
   "cell_type": "code",
   "execution_count": 116,
   "metadata": {
    "editable": true
   },
   "outputs": [
    {
     "name": "stdout",
     "output_type": "stream",
     "text": [
      "<class 'pandas.core.frame.DataFrame'>\n",
      "Int64Index: 52998 entries, 0 to 55074\n",
      "Data columns (total 12 columns):\n",
      "ident           52998 non-null object\n",
      "type            52998 non-null object\n",
      "name            52998 non-null object\n",
      "elevation_ft    52998 non-null int64\n",
      "continent       26621 non-null object\n",
      "iso_country     52751 non-null object\n",
      "iso_region      52998 non-null object\n",
      "municipality    47352 non-null object\n",
      "gps_code        39840 non-null object\n",
      "iata_code       8798 non-null object\n",
      "local_code      52998 non-null object\n",
      "coordinates     52998 non-null object\n",
      "dtypes: int64(1), object(11)\n",
      "memory usage: 5.3+ MB\n"
     ]
    }
   ],
   "source": [
    "airport.info()"
   ]
  },
  {
   "cell_type": "code",
   "execution_count": 117,
   "metadata": {
    "editable": true
   },
   "outputs": [
    {
     "data": {
      "text/plain": [
       "['ident',\n",
       " 'type',\n",
       " 'name',\n",
       " 'elevation_ft',\n",
       " 'continent',\n",
       " 'iso_country',\n",
       " 'iso_region',\n",
       " 'municipality',\n",
       " 'gps_code',\n",
       " 'iata_code',\n",
       " 'local_code',\n",
       " 'coordinates']"
      ]
     },
     "execution_count": 117,
     "metadata": {},
     "output_type": "execute_result"
    }
   ],
   "source": [
    "airport.columns.tolist()"
   ]
  },
  {
   "cell_type": "code",
   "execution_count": 118,
   "metadata": {
    "editable": true
   },
   "outputs": [],
   "source": [
    "# export cleaned data\n",
    "airport.to_csv(r'/home/workspace/airport.csv', index = False)"
   ]
  },
  {
   "cell_type": "markdown",
   "metadata": {
    "editable": true
   },
   "source": [
    "#### 2.2. I94 Immigration Data (Fact table)"
   ]
  },
  {
   "cell_type": "markdown",
   "metadata": {
    "editable": true
   },
   "source": [
    "This is a sample of the immigration data. We will perform data quality checks with spark afterwards, and data cleaning during the etl process."
   ]
  },
  {
   "cell_type": "code",
   "execution_count": 3,
   "metadata": {
    "editable": true
   },
   "outputs": [
    {
     "data": {
      "text/html": [
       "<div>\n",
       "<style scoped>\n",
       "    .dataframe tbody tr th:only-of-type {\n",
       "        vertical-align: middle;\n",
       "    }\n",
       "\n",
       "    .dataframe tbody tr th {\n",
       "        vertical-align: top;\n",
       "    }\n",
       "\n",
       "    .dataframe thead th {\n",
       "        text-align: right;\n",
       "    }\n",
       "</style>\n",
       "<table border=\"1\" class=\"dataframe\">\n",
       "  <thead>\n",
       "    <tr style=\"text-align: right;\">\n",
       "      <th></th>\n",
       "      <th>Unnamed: 0</th>\n",
       "      <th>cicid</th>\n",
       "      <th>i94yr</th>\n",
       "      <th>i94mon</th>\n",
       "      <th>i94cit</th>\n",
       "      <th>i94res</th>\n",
       "      <th>i94port</th>\n",
       "      <th>arrdate</th>\n",
       "      <th>i94mode</th>\n",
       "      <th>i94addr</th>\n",
       "      <th>...</th>\n",
       "      <th>entdepu</th>\n",
       "      <th>matflag</th>\n",
       "      <th>biryear</th>\n",
       "      <th>dtaddto</th>\n",
       "      <th>gender</th>\n",
       "      <th>insnum</th>\n",
       "      <th>airline</th>\n",
       "      <th>admnum</th>\n",
       "      <th>fltno</th>\n",
       "      <th>visatype</th>\n",
       "    </tr>\n",
       "  </thead>\n",
       "  <tbody>\n",
       "    <tr>\n",
       "      <th>14</th>\n",
       "      <td>682005</td>\n",
       "      <td>1387607.0</td>\n",
       "      <td>2016.0</td>\n",
       "      <td>4.0</td>\n",
       "      <td>148.0</td>\n",
       "      <td>112.0</td>\n",
       "      <td>BOS</td>\n",
       "      <td>20552.0</td>\n",
       "      <td>1.0</td>\n",
       "      <td>MA</td>\n",
       "      <td>...</td>\n",
       "      <td>NaN</td>\n",
       "      <td>M</td>\n",
       "      <td>1982.0</td>\n",
       "      <td>07062016</td>\n",
       "      <td>F</td>\n",
       "      <td>NaN</td>\n",
       "      <td>AF</td>\n",
       "      <td>5.583339e+10</td>\n",
       "      <td>00338</td>\n",
       "      <td>WT</td>\n",
       "    </tr>\n",
       "    <tr>\n",
       "      <th>524</th>\n",
       "      <td>501686</td>\n",
       "      <td>1020076.0</td>\n",
       "      <td>2016.0</td>\n",
       "      <td>4.0</td>\n",
       "      <td>148.0</td>\n",
       "      <td>112.0</td>\n",
       "      <td>LVG</td>\n",
       "      <td>20550.0</td>\n",
       "      <td>1.0</td>\n",
       "      <td>NY</td>\n",
       "      <td>...</td>\n",
       "      <td>NaN</td>\n",
       "      <td>M</td>\n",
       "      <td>1984.0</td>\n",
       "      <td>07042016</td>\n",
       "      <td>F</td>\n",
       "      <td>NaN</td>\n",
       "      <td>LH</td>\n",
       "      <td>5.571345e+10</td>\n",
       "      <td>00410</td>\n",
       "      <td>WT</td>\n",
       "    </tr>\n",
       "    <tr>\n",
       "      <th>731</th>\n",
       "      <td>3004195</td>\n",
       "      <td>6034750.0</td>\n",
       "      <td>2016.0</td>\n",
       "      <td>4.0</td>\n",
       "      <td>252.0</td>\n",
       "      <td>209.0</td>\n",
       "      <td>AGA</td>\n",
       "      <td>20572.0</td>\n",
       "      <td>1.0</td>\n",
       "      <td>GU</td>\n",
       "      <td>...</td>\n",
       "      <td>NaN</td>\n",
       "      <td>M</td>\n",
       "      <td>1978.0</td>\n",
       "      <td>06122016</td>\n",
       "      <td>M</td>\n",
       "      <td>3675.0</td>\n",
       "      <td>DL</td>\n",
       "      <td>5.752614e+10</td>\n",
       "      <td>00610</td>\n",
       "      <td>GMT</td>\n",
       "    </tr>\n",
       "    <tr>\n",
       "      <th>77</th>\n",
       "      <td>2185800</td>\n",
       "      <td>4469436.0</td>\n",
       "      <td>2016.0</td>\n",
       "      <td>4.0</td>\n",
       "      <td>694.0</td>\n",
       "      <td>694.0</td>\n",
       "      <td>MIA</td>\n",
       "      <td>20567.0</td>\n",
       "      <td>1.0</td>\n",
       "      <td>FL</td>\n",
       "      <td>...</td>\n",
       "      <td>NaN</td>\n",
       "      <td>M</td>\n",
       "      <td>1953.0</td>\n",
       "      <td>10222016</td>\n",
       "      <td>F</td>\n",
       "      <td>NaN</td>\n",
       "      <td>AV</td>\n",
       "      <td>9.434371e+10</td>\n",
       "      <td>00342</td>\n",
       "      <td>B2</td>\n",
       "    </tr>\n",
       "  </tbody>\n",
       "</table>\n",
       "<p>4 rows × 29 columns</p>\n",
       "</div>"
      ],
      "text/plain": [
       "     Unnamed: 0      cicid   i94yr  i94mon  i94cit  i94res i94port  arrdate  \\\n",
       "14       682005  1387607.0  2016.0     4.0   148.0   112.0     BOS  20552.0   \n",
       "524      501686  1020076.0  2016.0     4.0   148.0   112.0     LVG  20550.0   \n",
       "731     3004195  6034750.0  2016.0     4.0   252.0   209.0     AGA  20572.0   \n",
       "77      2185800  4469436.0  2016.0     4.0   694.0   694.0     MIA  20567.0   \n",
       "\n",
       "     i94mode i94addr    ...     entdepu  matflag  biryear   dtaddto  gender  \\\n",
       "14       1.0      MA    ...         NaN        M   1982.0  07062016       F   \n",
       "524      1.0      NY    ...         NaN        M   1984.0  07042016       F   \n",
       "731      1.0      GU    ...         NaN        M   1978.0  06122016       M   \n",
       "77       1.0      FL    ...         NaN        M   1953.0  10222016       F   \n",
       "\n",
       "     insnum airline        admnum  fltno  visatype  \n",
       "14      NaN      AF  5.583339e+10  00338        WT  \n",
       "524     NaN      LH  5.571345e+10  00410        WT  \n",
       "731  3675.0      DL  5.752614e+10  00610       GMT  \n",
       "77      NaN      AV  9.434371e+10  00342        B2  \n",
       "\n",
       "[4 rows x 29 columns]"
      ]
     },
     "execution_count": 3,
     "metadata": {},
     "output_type": "execute_result"
    }
   ],
   "source": [
    "# read data sample\n",
    "immigration_csv = pd.read_csv('immigration_data_sample.csv')\n",
    "immigration_csv.sample(4)"
   ]
  },
  {
   "cell_type": "code",
   "execution_count": 16,
   "metadata": {
    "editable": true
   },
   "outputs": [
    {
     "name": "stdout",
     "output_type": "stream",
     "text": [
      "<class 'pandas.core.frame.DataFrame'>\n",
      "Int64Index: 1000 entries, 0 to 999\n",
      "Data columns (total 29 columns):\n",
      "Unnamed: 0    1000 non-null int64\n",
      "cicid         1000 non-null float64\n",
      "i94yr         1000 non-null float64\n",
      "i94mon        1000 non-null float64\n",
      "i94cit        1000 non-null float64\n",
      "i94res        1000 non-null float64\n",
      "i94port       1000 non-null object\n",
      "arrdate       1000 non-null float64\n",
      "i94mode       1000 non-null float64\n",
      "i94addr       941 non-null object\n",
      "depdate       951 non-null float64\n",
      "i94bir        1000 non-null float64\n",
      "i94visa       1000 non-null float64\n",
      "count         1000 non-null float64\n",
      "dtadfile      1000 non-null int64\n",
      "visapost      382 non-null object\n",
      "occup         4 non-null object\n",
      "entdepa       1000 non-null object\n",
      "entdepd       954 non-null object\n",
      "entdepu       0 non-null float64\n",
      "matflag       954 non-null object\n",
      "biryear       1000 non-null float64\n",
      "dtaddto       1000 non-null object\n",
      "gender        859 non-null object\n",
      "insnum        35 non-null float64\n",
      "airline       967 non-null object\n",
      "admnum        1000 non-null float64\n",
      "fltno         992 non-null object\n",
      "visatype      1000 non-null object\n",
      "dtypes: float64(15), int64(2), object(12)\n",
      "memory usage: 234.4+ KB\n"
     ]
    }
   ],
   "source": [
    "# cicid is unique - no need to remove rows\n",
    "aux1 = immigration_csv[immigration_csv['cicid'].isnull() | ~immigration_csv[immigration_csv['cicid'].notnull()].duplicated(subset='cicid',keep='first')]\n",
    "aux1.info()"
   ]
  },
  {
   "cell_type": "code",
   "execution_count": 17,
   "metadata": {
    "editable": true
   },
   "outputs": [
    {
     "name": "stdout",
     "output_type": "stream",
     "text": [
      "<class 'pandas.core.frame.DataFrame'>\n",
      "RangeIndex: 1000 entries, 0 to 999\n",
      "Data columns (total 29 columns):\n",
      "Unnamed: 0    1000 non-null int64\n",
      "cicid         1000 non-null float64\n",
      "i94yr         1000 non-null float64\n",
      "i94mon        1000 non-null float64\n",
      "i94cit        1000 non-null float64\n",
      "i94res        1000 non-null float64\n",
      "i94port       1000 non-null object\n",
      "arrdate       1000 non-null float64\n",
      "i94mode       1000 non-null float64\n",
      "i94addr       941 non-null object\n",
      "depdate       951 non-null float64\n",
      "i94bir        1000 non-null float64\n",
      "i94visa       1000 non-null float64\n",
      "count         1000 non-null float64\n",
      "dtadfile      1000 non-null int64\n",
      "visapost      382 non-null object\n",
      "occup         4 non-null object\n",
      "entdepa       1000 non-null object\n",
      "entdepd       954 non-null object\n",
      "entdepu       0 non-null float64\n",
      "matflag       954 non-null object\n",
      "biryear       1000 non-null float64\n",
      "dtaddto       1000 non-null object\n",
      "gender        859 non-null object\n",
      "insnum        35 non-null float64\n",
      "airline       967 non-null object\n",
      "admnum        1000 non-null float64\n",
      "fltno         992 non-null object\n",
      "visatype      1000 non-null object\n",
      "dtypes: float64(15), int64(2), object(12)\n",
      "memory usage: 226.6+ KB\n"
     ]
    }
   ],
   "source": [
    "immigration_csv.info()"
   ]
  },
  {
   "cell_type": "code",
   "execution_count": 18,
   "metadata": {
    "editable": true
   },
   "outputs": [
    {
     "data": {
      "text/plain": [
       "count     1000.000000\n",
       "mean     20559.680000\n",
       "std          8.995027\n",
       "min      20545.000000\n",
       "25%      20552.000000\n",
       "50%      20560.000000\n",
       "75%      20567.250000\n",
       "max      20574.000000\n",
       "Name: arrdate, dtype: float64"
      ]
     },
     "execution_count": 18,
     "metadata": {},
     "output_type": "execute_result"
    }
   ],
   "source": [
    "# check statistics - arrival date\n",
    "immigration_csv['arrdate'].describe()"
   ]
  },
  {
   "cell_type": "code",
   "execution_count": 19,
   "metadata": {
    "editable": true
   },
   "outputs": [
    {
     "data": {
      "text/plain": [
       "888    FTL\n",
       "442    DET\n",
       "317    SFR\n",
       "487    BOS\n",
       "470    NEW\n",
       "37     NYC\n",
       "234    ORL\n",
       "410    NEW\n",
       "938    LOS\n",
       "766    PSP\n",
       "Name: i94port, dtype: object"
      ]
     },
     "execution_count": 19,
     "metadata": {},
     "output_type": "execute_result"
    }
   ],
   "source": [
    "# check statistics - port (only 3-digit codes)\n",
    "immigration_csv['i94port'].sample(10)"
   ]
  },
  {
   "cell_type": "code",
   "execution_count": 20,
   "metadata": {
    "editable": true
   },
   "outputs": [
    {
     "data": {
      "text/plain": [
       "array([ 2.,  1.,  3.])"
      ]
     },
     "execution_count": 20,
     "metadata": {},
     "output_type": "execute_result"
    }
   ],
   "source": [
    "# check statistics - arrival date\n",
    "immigration_csv['i94visa'].unique()"
   ]
  },
  {
   "cell_type": "code",
   "execution_count": 21,
   "metadata": {
    "editable": true
   },
   "outputs": [
    {
     "data": {
      "text/plain": [
       "array(['WT', 'B2', 'CP', 'B1', 'GMT', 'WB', 'F1', 'E2', 'F2', 'M1'], dtype=object)"
      ]
     },
     "execution_count": 21,
     "metadata": {},
     "output_type": "execute_result"
    }
   ],
   "source": [
    "# check statistics - arrival date\n",
    "immigration_csv['visatype'].unique()"
   ]
  },
  {
   "cell_type": "markdown",
   "metadata": {
    "editable": true
   },
   "source": [
    "#### 2.3. World Temperature Data"
   ]
  },
  {
   "cell_type": "code",
   "execution_count": 85,
   "metadata": {
    "editable": true
   },
   "outputs": [
    {
     "data": {
      "text/html": [
       "<div>\n",
       "<style scoped>\n",
       "    .dataframe tbody tr th:only-of-type {\n",
       "        vertical-align: middle;\n",
       "    }\n",
       "\n",
       "    .dataframe tbody tr th {\n",
       "        vertical-align: top;\n",
       "    }\n",
       "\n",
       "    .dataframe thead th {\n",
       "        text-align: right;\n",
       "    }\n",
       "</style>\n",
       "<table border=\"1\" class=\"dataframe\">\n",
       "  <thead>\n",
       "    <tr style=\"text-align: right;\">\n",
       "      <th></th>\n",
       "      <th>dt</th>\n",
       "      <th>AverageTemperature</th>\n",
       "      <th>AverageTemperatureUncertainty</th>\n",
       "      <th>City</th>\n",
       "      <th>Country</th>\n",
       "      <th>Latitude</th>\n",
       "      <th>Longitude</th>\n",
       "    </tr>\n",
       "  </thead>\n",
       "  <tbody>\n",
       "    <tr>\n",
       "      <th>4824170</th>\n",
       "      <td>1968-08-01</td>\n",
       "      <td>13.859</td>\n",
       "      <td>0.212</td>\n",
       "      <td>Milan</td>\n",
       "      <td>Italy</td>\n",
       "      <td>45.81N</td>\n",
       "      <td>8.08E</td>\n",
       "    </tr>\n",
       "    <tr>\n",
       "      <th>7237268</th>\n",
       "      <td>1929-06-01</td>\n",
       "      <td>15.890</td>\n",
       "      <td>0.455</td>\n",
       "      <td>Sumy</td>\n",
       "      <td>Ukraine</td>\n",
       "      <td>50.63N</td>\n",
       "      <td>34.23E</td>\n",
       "    </tr>\n",
       "    <tr>\n",
       "      <th>6766839</th>\n",
       "      <td>1957-02-01</td>\n",
       "      <td>22.116</td>\n",
       "      <td>0.276</td>\n",
       "      <td>Santos</td>\n",
       "      <td>Brazil</td>\n",
       "      <td>23.31S</td>\n",
       "      <td>46.31W</td>\n",
       "    </tr>\n",
       "    <tr>\n",
       "      <th>5786639</th>\n",
       "      <td>2002-12-01</td>\n",
       "      <td>-0.718</td>\n",
       "      <td>0.341</td>\n",
       "      <td>Peoria</td>\n",
       "      <td>United States</td>\n",
       "      <td>40.99N</td>\n",
       "      <td>89.47W</td>\n",
       "    </tr>\n",
       "    <tr>\n",
       "      <th>5255682</th>\n",
       "      <td>1834-06-01</td>\n",
       "      <td>16.604</td>\n",
       "      <td>3.028</td>\n",
       "      <td>Nijmegen</td>\n",
       "      <td>Netherlands</td>\n",
       "      <td>52.24N</td>\n",
       "      <td>5.26E</td>\n",
       "    </tr>\n",
       "  </tbody>\n",
       "</table>\n",
       "</div>"
      ],
      "text/plain": [
       "                 dt  AverageTemperature  AverageTemperatureUncertainty  \\\n",
       "4824170  1968-08-01              13.859                          0.212   \n",
       "7237268  1929-06-01              15.890                          0.455   \n",
       "6766839  1957-02-01              22.116                          0.276   \n",
       "5786639  2002-12-01              -0.718                          0.341   \n",
       "5255682  1834-06-01              16.604                          3.028   \n",
       "\n",
       "             City        Country Latitude Longitude  \n",
       "4824170     Milan          Italy   45.81N     8.08E  \n",
       "7237268      Sumy        Ukraine   50.63N    34.23E  \n",
       "6766839    Santos         Brazil   23.31S    46.31W  \n",
       "5786639    Peoria  United States   40.99N    89.47W  \n",
       "5255682  Nijmegen    Netherlands   52.24N     5.26E  "
      ]
     },
     "execution_count": 85,
     "metadata": {},
     "output_type": "execute_result"
    }
   ],
   "source": [
    "# load data\n",
    "PATH = '../../data2/'\n",
    "world = pd.read_csv(f'{PATH}GlobalLandTemperaturesByCity.csv')\n",
    "world.sample(5)"
   ]
  },
  {
   "cell_type": "code",
   "execution_count": 87,
   "metadata": {
    "editable": true
   },
   "outputs": [
    {
     "name": "stdout",
     "output_type": "stream",
     "text": [
      "<class 'pandas.core.frame.DataFrame'>\n",
      "RangeIndex: 8599212 entries, 0 to 8599211\n",
      "Data columns (total 7 columns):\n",
      "dt                               object\n",
      "AverageTemperature               float64\n",
      "AverageTemperatureUncertainty    float64\n",
      "City                             object\n",
      "Country                          object\n",
      "Latitude                         object\n",
      "Longitude                        object\n",
      "dtypes: float64(2), object(5)\n",
      "memory usage: 459.2+ MB\n"
     ]
    }
   ],
   "source": [
    "world.info()"
   ]
  },
  {
   "cell_type": "code",
   "execution_count": 88,
   "metadata": {
    "editable": true
   },
   "outputs": [],
   "source": [
    "# transform dt column to datetime\n",
    "world['dt'] = pd.to_datetime(world['dt'])"
   ]
  },
  {
   "cell_type": "code",
   "execution_count": 89,
   "metadata": {
    "editable": true
   },
   "outputs": [],
   "source": [
    "# add dt columns year month day\n",
    "world['year'] = world['dt'].dt.year\n",
    "world['month'] = world['dt'].dt.month\n",
    "world['day'] = world['dt'].dt.day"
   ]
  },
  {
   "cell_type": "code",
   "execution_count": 90,
   "metadata": {
    "editable": true
   },
   "outputs": [
    {
     "name": "stdout",
     "output_type": "stream",
     "text": [
      "<class 'pandas.core.frame.DataFrame'>\n",
      "Int64Index: 31590 entries, 3230 to 8599211\n",
      "Data columns (total 10 columns):\n",
      "dt                               31590 non-null datetime64[ns]\n",
      "AverageTemperature               28520 non-null float64\n",
      "AverageTemperatureUncertainty    28520 non-null float64\n",
      "City                             31590 non-null object\n",
      "Country                          31590 non-null object\n",
      "Latitude                         31590 non-null object\n",
      "Longitude                        31590 non-null object\n",
      "year                             31590 non-null int64\n",
      "month                            31590 non-null int64\n",
      "day                              31590 non-null int64\n",
      "dtypes: datetime64[ns](1), float64(2), int64(3), object(4)\n",
      "memory usage: 2.7+ MB\n"
     ]
    }
   ],
   "source": [
    "# check nan values in the most recent year. Since we have many nan values, let's try a year below\n",
    "aux1 = world[world['year'] == 2013]\n",
    "aux1.info()"
   ]
  },
  {
   "cell_type": "code",
   "execution_count": 91,
   "metadata": {
    "editable": true
   },
   "outputs": [
    {
     "name": "stdout",
     "output_type": "stream",
     "text": [
      "<class 'pandas.core.frame.DataFrame'>\n",
      "Int64Index: 42120 entries, 3218 to 8599202\n",
      "Data columns (total 10 columns):\n",
      "dt                               42120 non-null datetime64[ns]\n",
      "AverageTemperature               42120 non-null float64\n",
      "AverageTemperatureUncertainty    42120 non-null float64\n",
      "City                             42120 non-null object\n",
      "Country                          42120 non-null object\n",
      "Latitude                         42120 non-null object\n",
      "Longitude                        42120 non-null object\n",
      "year                             42120 non-null int64\n",
      "month                            42120 non-null int64\n",
      "day                              42120 non-null int64\n",
      "dtypes: datetime64[ns](1), float64(2), int64(3), object(4)\n",
      "memory usage: 3.5+ MB\n"
     ]
    }
   ],
   "source": [
    "# check nan values in 2012. No nan values found - we will use year 2012 for this project.\n",
    "aux1 = world[world['year'] == 2012]\n",
    "aux1.info()"
   ]
  },
  {
   "cell_type": "code",
   "execution_count": 92,
   "metadata": {
    "editable": true
   },
   "outputs": [
    {
     "data": {
      "text/plain": [
       "Rongcheng      36\n",
       "Worcester      36\n",
       "León           36\n",
       "Springfield    36\n",
       "Santiago       36\n",
       "Name: City, dtype: int64"
      ]
     },
     "execution_count": 92,
     "metadata": {},
     "output_type": "execute_result"
    }
   ],
   "source": [
    "# check duplicate cities - we will need to remove duplicates\n",
    "aux1['City'].value_counts(ascending=False).head(5)"
   ]
  },
  {
   "cell_type": "code",
   "execution_count": 93,
   "metadata": {
    "editable": true
   },
   "outputs": [],
   "source": [
    "# remove duplicates\n",
    "aux1 = world.drop_duplicates(subset =\"City\", \n",
    "                     keep = \"first\") "
   ]
  },
  {
   "cell_type": "code",
   "execution_count": 94,
   "metadata": {
    "editable": true
   },
   "outputs": [
    {
     "data": {
      "text/plain": [
       "Osorno     1\n",
       "Imphal     1\n",
       "Aba        1\n",
       "Sivas      1\n",
       "Bikaner    1\n",
       "Name: City, dtype: int64"
      ]
     },
     "execution_count": 94,
     "metadata": {},
     "output_type": "execute_result"
    }
   ],
   "source": [
    "# duplicates removed\n",
    "aux1['City'].value_counts(ascending=False).head(5)"
   ]
  },
  {
   "cell_type": "code",
   "execution_count": 95,
   "metadata": {
    "editable": true
   },
   "outputs": [
    {
     "name": "stdout",
     "output_type": "stream",
     "text": [
      "<class 'pandas.core.frame.DataFrame'>\n",
      "Int64Index: 3448 entries, 0 to 8595973\n",
      "Data columns (total 10 columns):\n",
      "dt                               3448 non-null datetime64[ns]\n",
      "AverageTemperature               3448 non-null float64\n",
      "AverageTemperatureUncertainty    3448 non-null float64\n",
      "City                             3448 non-null object\n",
      "Country                          3448 non-null object\n",
      "Latitude                         3448 non-null object\n",
      "Longitude                        3448 non-null object\n",
      "year                             3448 non-null int64\n",
      "month                            3448 non-null int64\n",
      "day                              3448 non-null int64\n",
      "dtypes: datetime64[ns](1), float64(2), int64(3), object(4)\n",
      "memory usage: 296.3+ KB\n"
     ]
    }
   ],
   "source": [
    "aux1.info()"
   ]
  },
  {
   "cell_type": "code",
   "execution_count": 96,
   "metadata": {
    "editable": true
   },
   "outputs": [],
   "source": [
    "# export data\n",
    "aux1.to_csv(r'/home/workspace/temp.csv', index = False)"
   ]
  },
  {
   "cell_type": "markdown",
   "metadata": {
    "editable": true
   },
   "source": [
    "#### 2.4. US City Demographic Data"
   ]
  },
  {
   "cell_type": "code",
   "execution_count": 125,
   "metadata": {
    "editable": true
   },
   "outputs": [
    {
     "data": {
      "text/html": [
       "<div>\n",
       "<style scoped>\n",
       "    .dataframe tbody tr th:only-of-type {\n",
       "        vertical-align: middle;\n",
       "    }\n",
       "\n",
       "    .dataframe tbody tr th {\n",
       "        vertical-align: top;\n",
       "    }\n",
       "\n",
       "    .dataframe thead th {\n",
       "        text-align: right;\n",
       "    }\n",
       "</style>\n",
       "<table border=\"1\" class=\"dataframe\">\n",
       "  <thead>\n",
       "    <tr style=\"text-align: right;\">\n",
       "      <th></th>\n",
       "      <th>City</th>\n",
       "      <th>State</th>\n",
       "      <th>Median Age</th>\n",
       "      <th>Male Population</th>\n",
       "      <th>Female Population</th>\n",
       "      <th>Total Population</th>\n",
       "      <th>Number of Veterans</th>\n",
       "      <th>Foreign-born</th>\n",
       "      <th>Average Household Size</th>\n",
       "      <th>State Code</th>\n",
       "      <th>Race</th>\n",
       "      <th>Count</th>\n",
       "    </tr>\n",
       "  </thead>\n",
       "  <tbody>\n",
       "    <tr>\n",
       "      <th>2859</th>\n",
       "      <td>Yuma</td>\n",
       "      <td>Arizona</td>\n",
       "      <td>33.4</td>\n",
       "      <td>48298.0</td>\n",
       "      <td>45847.0</td>\n",
       "      <td>94145</td>\n",
       "      <td>7182.0</td>\n",
       "      <td>19326.0</td>\n",
       "      <td>2.64</td>\n",
       "      <td>AZ</td>\n",
       "      <td>American Indian and Alaska Native</td>\n",
       "      <td>1228</td>\n",
       "    </tr>\n",
       "    <tr>\n",
       "      <th>2387</th>\n",
       "      <td>Lakewood</td>\n",
       "      <td>Colorado</td>\n",
       "      <td>37.7</td>\n",
       "      <td>76013.0</td>\n",
       "      <td>76576.0</td>\n",
       "      <td>152589</td>\n",
       "      <td>9988.0</td>\n",
       "      <td>14169.0</td>\n",
       "      <td>2.29</td>\n",
       "      <td>CO</td>\n",
       "      <td>American Indian and Alaska Native</td>\n",
       "      <td>2597</td>\n",
       "    </tr>\n",
       "  </tbody>\n",
       "</table>\n",
       "</div>"
      ],
      "text/plain": [
       "          City     State  Median Age  Male Population  Female Population  \\\n",
       "2859      Yuma   Arizona        33.4          48298.0            45847.0   \n",
       "2387  Lakewood  Colorado        37.7          76013.0            76576.0   \n",
       "\n",
       "      Total Population  Number of Veterans  Foreign-born  \\\n",
       "2859             94145              7182.0       19326.0   \n",
       "2387            152589              9988.0       14169.0   \n",
       "\n",
       "      Average Household Size State Code                               Race  \\\n",
       "2859                    2.64         AZ  American Indian and Alaska Native   \n",
       "2387                    2.29         CO  American Indian and Alaska Native   \n",
       "\n",
       "      Count  \n",
       "2859   1228  \n",
       "2387   2597  "
      ]
     },
     "execution_count": 125,
     "metadata": {},
     "output_type": "execute_result"
    }
   ],
   "source": [
    "# read file\n",
    "demo = pd.read_csv('us-cities-demographics.csv', sep = ';')\n",
    "demo.sample(2)"
   ]
  },
  {
   "cell_type": "code",
   "execution_count": 127,
   "metadata": {
    "editable": true
   },
   "outputs": [
    {
     "data": {
      "text/html": [
       "<div>\n",
       "<style scoped>\n",
       "    .dataframe tbody tr th:only-of-type {\n",
       "        vertical-align: middle;\n",
       "    }\n",
       "\n",
       "    .dataframe tbody tr th {\n",
       "        vertical-align: top;\n",
       "    }\n",
       "\n",
       "    .dataframe thead th {\n",
       "        text-align: right;\n",
       "    }\n",
       "</style>\n",
       "<table border=\"1\" class=\"dataframe\">\n",
       "  <thead>\n",
       "    <tr style=\"text-align: right;\">\n",
       "      <th></th>\n",
       "      <th>City</th>\n",
       "      <th>State</th>\n",
       "      <th>Median Age</th>\n",
       "      <th>Male Population</th>\n",
       "      <th>Female Population</th>\n",
       "      <th>Total Population</th>\n",
       "      <th>Number of Veterans</th>\n",
       "      <th>Foreign-born</th>\n",
       "      <th>Average Household Size</th>\n",
       "      <th>State Code</th>\n",
       "      <th>Race</th>\n",
       "      <th>Count</th>\n",
       "    </tr>\n",
       "  </thead>\n",
       "  <tbody>\n",
       "    <tr>\n",
       "      <th>733</th>\n",
       "      <td>Schenectady</td>\n",
       "      <td>New York</td>\n",
       "      <td>36.7</td>\n",
       "      <td>32398.0</td>\n",
       "      <td>32901.0</td>\n",
       "      <td>65299</td>\n",
       "      <td>3388.0</td>\n",
       "      <td>10961.0</td>\n",
       "      <td>2.82</td>\n",
       "      <td>NY</td>\n",
       "      <td>Asian</td>\n",
       "      <td>5140</td>\n",
       "    </tr>\n",
       "    <tr>\n",
       "      <th>969</th>\n",
       "      <td>Schenectady</td>\n",
       "      <td>New York</td>\n",
       "      <td>36.7</td>\n",
       "      <td>32398.0</td>\n",
       "      <td>32901.0</td>\n",
       "      <td>65299</td>\n",
       "      <td>3388.0</td>\n",
       "      <td>10961.0</td>\n",
       "      <td>2.82</td>\n",
       "      <td>NY</td>\n",
       "      <td>White</td>\n",
       "      <td>40278</td>\n",
       "    </tr>\n",
       "    <tr>\n",
       "      <th>1279</th>\n",
       "      <td>Schenectady</td>\n",
       "      <td>New York</td>\n",
       "      <td>36.7</td>\n",
       "      <td>32398.0</td>\n",
       "      <td>32901.0</td>\n",
       "      <td>65299</td>\n",
       "      <td>3388.0</td>\n",
       "      <td>10961.0</td>\n",
       "      <td>2.82</td>\n",
       "      <td>NY</td>\n",
       "      <td>American Indian and Alaska Native</td>\n",
       "      <td>1059</td>\n",
       "    </tr>\n",
       "    <tr>\n",
       "      <th>1689</th>\n",
       "      <td>Schenectady</td>\n",
       "      <td>New York</td>\n",
       "      <td>36.7</td>\n",
       "      <td>32398.0</td>\n",
       "      <td>32901.0</td>\n",
       "      <td>65299</td>\n",
       "      <td>3388.0</td>\n",
       "      <td>10961.0</td>\n",
       "      <td>2.82</td>\n",
       "      <td>NY</td>\n",
       "      <td>Black or African-American</td>\n",
       "      <td>15640</td>\n",
       "    </tr>\n",
       "    <tr>\n",
       "      <th>1874</th>\n",
       "      <td>Schenectady</td>\n",
       "      <td>New York</td>\n",
       "      <td>36.7</td>\n",
       "      <td>32398.0</td>\n",
       "      <td>32901.0</td>\n",
       "      <td>65299</td>\n",
       "      <td>3388.0</td>\n",
       "      <td>10961.0</td>\n",
       "      <td>2.82</td>\n",
       "      <td>NY</td>\n",
       "      <td>Hispanic or Latino</td>\n",
       "      <td>5957</td>\n",
       "    </tr>\n",
       "  </tbody>\n",
       "</table>\n",
       "</div>"
      ],
      "text/plain": [
       "             City     State  Median Age  Male Population  Female Population  \\\n",
       "733   Schenectady  New York        36.7          32398.0            32901.0   \n",
       "969   Schenectady  New York        36.7          32398.0            32901.0   \n",
       "1279  Schenectady  New York        36.7          32398.0            32901.0   \n",
       "1689  Schenectady  New York        36.7          32398.0            32901.0   \n",
       "1874  Schenectady  New York        36.7          32398.0            32901.0   \n",
       "\n",
       "      Total Population  Number of Veterans  Foreign-born  \\\n",
       "733              65299              3388.0       10961.0   \n",
       "969              65299              3388.0       10961.0   \n",
       "1279             65299              3388.0       10961.0   \n",
       "1689             65299              3388.0       10961.0   \n",
       "1874             65299              3388.0       10961.0   \n",
       "\n",
       "      Average Household Size State Code                               Race  \\\n",
       "733                     2.82         NY                              Asian   \n",
       "969                     2.82         NY                              White   \n",
       "1279                    2.82         NY  American Indian and Alaska Native   \n",
       "1689                    2.82         NY          Black or African-American   \n",
       "1874                    2.82         NY                 Hispanic or Latino   \n",
       "\n",
       "      Count  \n",
       "733    5140  \n",
       "969   40278  \n",
       "1279   1059  \n",
       "1689  15640  \n",
       "1874   5957  "
      ]
     },
     "execution_count": 127,
     "metadata": {},
     "output_type": "execute_result"
    }
   ],
   "source": [
    "# There are many duplicates - we will remove them\n",
    "demo[demo['City'] == 'Schenectady']"
   ]
  },
  {
   "cell_type": "code",
   "execution_count": 128,
   "metadata": {
    "editable": true
   },
   "outputs": [
    {
     "data": {
      "text/html": [
       "<div>\n",
       "<style scoped>\n",
       "    .dataframe tbody tr th:only-of-type {\n",
       "        vertical-align: middle;\n",
       "    }\n",
       "\n",
       "    .dataframe tbody tr th {\n",
       "        vertical-align: top;\n",
       "    }\n",
       "\n",
       "    .dataframe thead th {\n",
       "        text-align: right;\n",
       "    }\n",
       "</style>\n",
       "<table border=\"1\" class=\"dataframe\">\n",
       "  <thead>\n",
       "    <tr style=\"text-align: right;\">\n",
       "      <th></th>\n",
       "      <th>City</th>\n",
       "      <th>State</th>\n",
       "      <th>Median Age</th>\n",
       "      <th>Male Population</th>\n",
       "      <th>Female Population</th>\n",
       "      <th>Total Population</th>\n",
       "      <th>Number of Veterans</th>\n",
       "      <th>Foreign-born</th>\n",
       "      <th>Average Household Size</th>\n",
       "      <th>State Code</th>\n",
       "      <th>Race</th>\n",
       "      <th>Count</th>\n",
       "    </tr>\n",
       "  </thead>\n",
       "  <tbody>\n",
       "    <tr>\n",
       "      <th>733</th>\n",
       "      <td>Schenectady</td>\n",
       "      <td>New York</td>\n",
       "      <td>36.7</td>\n",
       "      <td>32398.0</td>\n",
       "      <td>32901.0</td>\n",
       "      <td>65299</td>\n",
       "      <td>3388.0</td>\n",
       "      <td>10961.0</td>\n",
       "      <td>2.82</td>\n",
       "      <td>NY</td>\n",
       "      <td>Asian</td>\n",
       "      <td>5140</td>\n",
       "    </tr>\n",
       "  </tbody>\n",
       "</table>\n",
       "</div>"
      ],
      "text/plain": [
       "            City     State  Median Age  Male Population  Female Population  \\\n",
       "733  Schenectady  New York        36.7          32398.0            32901.0   \n",
       "\n",
       "     Total Population  Number of Veterans  Foreign-born  \\\n",
       "733             65299              3388.0       10961.0   \n",
       "\n",
       "     Average Household Size State Code   Race  Count  \n",
       "733                    2.82         NY  Asian   5140  "
      ]
     },
     "execution_count": 128,
     "metadata": {},
     "output_type": "execute_result"
    }
   ],
   "source": [
    "# remove duplicates\n",
    "demo = demo.drop_duplicates(subset = ['City'])\n",
    "demo[demo['City'] == 'Schenectady']"
   ]
  },
  {
   "cell_type": "code",
   "execution_count": 55,
   "metadata": {
    "editable": true
   },
   "outputs": [
    {
     "data": {
      "text/plain": [
       "(567, 12)"
      ]
     },
     "execution_count": 55,
     "metadata": {},
     "output_type": "execute_result"
    }
   ],
   "source": [
    "# size after removing duplicates\n",
    "demo.drop_duplicates(subset = ['City']).shape"
   ]
  },
  {
   "cell_type": "code",
   "execution_count": 129,
   "metadata": {
    "editable": true
   },
   "outputs": [
    {
     "data": {
      "text/plain": [
       "['City',\n",
       " 'State',\n",
       " 'Median Age',\n",
       " 'Male Population',\n",
       " 'Female Population',\n",
       " 'Total Population',\n",
       " 'Number of Veterans',\n",
       " 'Foreign-born',\n",
       " 'Average Household Size',\n",
       " 'State Code',\n",
       " 'Race',\n",
       " 'Count']"
      ]
     },
     "execution_count": 129,
     "metadata": {},
     "output_type": "execute_result"
    }
   ],
   "source": [
    "# get column names\n",
    "demo.columns.tolist()"
   ]
  },
  {
   "cell_type": "code",
   "execution_count": 130,
   "metadata": {
    "editable": true
   },
   "outputs": [],
   "source": [
    "# rename all columns to snakecase type\n",
    "demo.columns = ['city','state', 'median_age', 'male_population', 'female_population',\n",
    " 'total_population', 'number_of_veterans', 'foreign_born', 'average_household_size', 'state_code', 'race', 'count']"
   ]
  },
  {
   "cell_type": "code",
   "execution_count": 131,
   "metadata": {
    "editable": true
   },
   "outputs": [
    {
     "data": {
      "text/html": [
       "<div>\n",
       "<style scoped>\n",
       "    .dataframe tbody tr th:only-of-type {\n",
       "        vertical-align: middle;\n",
       "    }\n",
       "\n",
       "    .dataframe tbody tr th {\n",
       "        vertical-align: top;\n",
       "    }\n",
       "\n",
       "    .dataframe thead th {\n",
       "        text-align: right;\n",
       "    }\n",
       "</style>\n",
       "<table border=\"1\" class=\"dataframe\">\n",
       "  <thead>\n",
       "    <tr style=\"text-align: right;\">\n",
       "      <th></th>\n",
       "      <th>city</th>\n",
       "      <th>state</th>\n",
       "      <th>median_age</th>\n",
       "      <th>male_population</th>\n",
       "      <th>female_population</th>\n",
       "      <th>total_population</th>\n",
       "      <th>number_of_veterans</th>\n",
       "      <th>foreign_born</th>\n",
       "      <th>average_household_size</th>\n",
       "      <th>state_code</th>\n",
       "      <th>race</th>\n",
       "      <th>count</th>\n",
       "    </tr>\n",
       "  </thead>\n",
       "  <tbody>\n",
       "    <tr>\n",
       "      <th>0</th>\n",
       "      <td>Silver Spring</td>\n",
       "      <td>Maryland</td>\n",
       "      <td>33.8</td>\n",
       "      <td>40601.0</td>\n",
       "      <td>41862.0</td>\n",
       "      <td>82463</td>\n",
       "      <td>1562.0</td>\n",
       "      <td>30908.0</td>\n",
       "      <td>2.60</td>\n",
       "      <td>MD</td>\n",
       "      <td>Hispanic or Latino</td>\n",
       "      <td>25924</td>\n",
       "    </tr>\n",
       "    <tr>\n",
       "      <th>1</th>\n",
       "      <td>Quincy</td>\n",
       "      <td>Massachusetts</td>\n",
       "      <td>41.0</td>\n",
       "      <td>44129.0</td>\n",
       "      <td>49500.0</td>\n",
       "      <td>93629</td>\n",
       "      <td>4147.0</td>\n",
       "      <td>32935.0</td>\n",
       "      <td>2.39</td>\n",
       "      <td>MA</td>\n",
       "      <td>White</td>\n",
       "      <td>58723</td>\n",
       "    </tr>\n",
       "    <tr>\n",
       "      <th>2</th>\n",
       "      <td>Hoover</td>\n",
       "      <td>Alabama</td>\n",
       "      <td>38.5</td>\n",
       "      <td>38040.0</td>\n",
       "      <td>46799.0</td>\n",
       "      <td>84839</td>\n",
       "      <td>4819.0</td>\n",
       "      <td>8229.0</td>\n",
       "      <td>2.58</td>\n",
       "      <td>AL</td>\n",
       "      <td>Asian</td>\n",
       "      <td>4759</td>\n",
       "    </tr>\n",
       "    <tr>\n",
       "      <th>3</th>\n",
       "      <td>Rancho Cucamonga</td>\n",
       "      <td>California</td>\n",
       "      <td>34.5</td>\n",
       "      <td>88127.0</td>\n",
       "      <td>87105.0</td>\n",
       "      <td>175232</td>\n",
       "      <td>5821.0</td>\n",
       "      <td>33878.0</td>\n",
       "      <td>3.18</td>\n",
       "      <td>CA</td>\n",
       "      <td>Black or African-American</td>\n",
       "      <td>24437</td>\n",
       "    </tr>\n",
       "    <tr>\n",
       "      <th>4</th>\n",
       "      <td>Newark</td>\n",
       "      <td>New Jersey</td>\n",
       "      <td>34.6</td>\n",
       "      <td>138040.0</td>\n",
       "      <td>143873.0</td>\n",
       "      <td>281913</td>\n",
       "      <td>5829.0</td>\n",
       "      <td>86253.0</td>\n",
       "      <td>2.73</td>\n",
       "      <td>NJ</td>\n",
       "      <td>White</td>\n",
       "      <td>76402</td>\n",
       "    </tr>\n",
       "  </tbody>\n",
       "</table>\n",
       "</div>"
      ],
      "text/plain": [
       "               city          state  median_age  male_population  \\\n",
       "0     Silver Spring       Maryland        33.8          40601.0   \n",
       "1            Quincy  Massachusetts        41.0          44129.0   \n",
       "2            Hoover        Alabama        38.5          38040.0   \n",
       "3  Rancho Cucamonga     California        34.5          88127.0   \n",
       "4            Newark     New Jersey        34.6         138040.0   \n",
       "\n",
       "   female_population  total_population  number_of_veterans  foreign_born  \\\n",
       "0            41862.0             82463              1562.0       30908.0   \n",
       "1            49500.0             93629              4147.0       32935.0   \n",
       "2            46799.0             84839              4819.0        8229.0   \n",
       "3            87105.0            175232              5821.0       33878.0   \n",
       "4           143873.0            281913              5829.0       86253.0   \n",
       "\n",
       "   average_household_size state_code                       race  count  \n",
       "0                    2.60         MD         Hispanic or Latino  25924  \n",
       "1                    2.39         MA                      White  58723  \n",
       "2                    2.58         AL                      Asian   4759  \n",
       "3                    3.18         CA  Black or African-American  24437  \n",
       "4                    2.73         NJ                      White  76402  "
      ]
     },
     "execution_count": 131,
     "metadata": {},
     "output_type": "execute_result"
    }
   ],
   "source": [
    "demo.head()"
   ]
  },
  {
   "cell_type": "code",
   "execution_count": 132,
   "metadata": {
    "editable": true
   },
   "outputs": [
    {
     "name": "stdout",
     "output_type": "stream",
     "text": [
      "<class 'pandas.core.frame.DataFrame'>\n",
      "Int64Index: 567 entries, 0 to 2726\n",
      "Data columns (total 12 columns):\n",
      "city                      567 non-null object\n",
      "state                     567 non-null object\n",
      "median_age                567 non-null float64\n",
      "male_population           566 non-null float64\n",
      "female_population         566 non-null float64\n",
      "total_population          567 non-null int64\n",
      "number_of_veterans        560 non-null float64\n",
      "foreign_born              560 non-null float64\n",
      "average_household_size    559 non-null float64\n",
      "state_code                567 non-null object\n",
      "race                      567 non-null object\n",
      "count                     567 non-null int64\n",
      "dtypes: float64(6), int64(2), object(4)\n",
      "memory usage: 57.6+ KB\n"
     ]
    }
   ],
   "source": [
    "demo.info()"
   ]
  },
  {
   "cell_type": "code",
   "execution_count": 133,
   "metadata": {
    "editable": true
   },
   "outputs": [],
   "source": [
    "# change dtypes\n",
    "demo.loc[demo['male_population'].isna(), 'male_population'] = 0\n",
    "demo.loc[demo['female_population'].isna(), 'female_population'] = 0\n",
    "demo.loc[demo['total_population'].isna(), 'total_population'] = 0\n",
    "demo.loc[demo['foreign_born'].isna(), 'foreign_born'] = 0\n",
    "demo.loc[demo['number_of_veterans'].isna(), 'number_of_veterans'] = 0\n",
    "\n",
    "demo['male_population'] = demo['male_population'].astype(int)\n",
    "demo['female_population'] = demo['female_population'].astype(int)\n",
    "demo['total_population'] = demo['total_population'].astype(int)\n",
    "demo['foreign_born'] = demo['foreign_born'].astype(int)\n",
    "demo['number_of_veterans'] = demo['number_of_veterans'].astype(int)"
   ]
  },
  {
   "cell_type": "code",
   "execution_count": 134,
   "metadata": {
    "editable": true
   },
   "outputs": [
    {
     "data": {
      "text/html": [
       "<div>\n",
       "<style scoped>\n",
       "    .dataframe tbody tr th:only-of-type {\n",
       "        vertical-align: middle;\n",
       "    }\n",
       "\n",
       "    .dataframe tbody tr th {\n",
       "        vertical-align: top;\n",
       "    }\n",
       "\n",
       "    .dataframe thead th {\n",
       "        text-align: right;\n",
       "    }\n",
       "</style>\n",
       "<table border=\"1\" class=\"dataframe\">\n",
       "  <thead>\n",
       "    <tr style=\"text-align: right;\">\n",
       "      <th></th>\n",
       "      <th>median_age</th>\n",
       "      <th>male_population</th>\n",
       "      <th>female_population</th>\n",
       "      <th>total_population</th>\n",
       "      <th>number_of_veterans</th>\n",
       "      <th>foreign_born</th>\n",
       "      <th>average_household_size</th>\n",
       "      <th>count</th>\n",
       "    </tr>\n",
       "  </thead>\n",
       "  <tbody>\n",
       "    <tr>\n",
       "      <th>count</th>\n",
       "      <td>567.000000</td>\n",
       "      <td>5.670000e+02</td>\n",
       "      <td>5.670000e+02</td>\n",
       "      <td>5.670000e+02</td>\n",
       "      <td>567.000000</td>\n",
       "      <td>5.670000e+02</td>\n",
       "      <td>559.000000</td>\n",
       "      <td>5.670000e+02</td>\n",
       "    </tr>\n",
       "    <tr>\n",
       "      <th>mean</th>\n",
       "      <td>35.609524</td>\n",
       "      <td>9.563870e+04</td>\n",
       "      <td>1.000549e+05</td>\n",
       "      <td>1.958216e+05</td>\n",
       "      <td>8996.287478</td>\n",
       "      <td>4.030597e+04</td>\n",
       "      <td>2.754329</td>\n",
       "      <td>6.090878e+04</td>\n",
       "    </tr>\n",
       "    <tr>\n",
       "      <th>std</th>\n",
       "      <td>4.535928</td>\n",
       "      <td>2.178510e+05</td>\n",
       "      <td>2.332341e+05</td>\n",
       "      <td>4.509442e+05</td>\n",
       "      <td>12965.775494</td>\n",
       "      <td>1.570220e+05</td>\n",
       "      <td>0.442436</td>\n",
       "      <td>2.102389e+05</td>\n",
       "    </tr>\n",
       "    <tr>\n",
       "      <th>min</th>\n",
       "      <td>22.900000</td>\n",
       "      <td>0.000000e+00</td>\n",
       "      <td>0.000000e+00</td>\n",
       "      <td>6.321500e+04</td>\n",
       "      <td>0.000000</td>\n",
       "      <td>0.000000e+00</td>\n",
       "      <td>2.000000</td>\n",
       "      <td>2.030000e+02</td>\n",
       "    </tr>\n",
       "    <tr>\n",
       "      <th>25%</th>\n",
       "      <td>32.850000</td>\n",
       "      <td>3.872200e+04</td>\n",
       "      <td>4.087000e+04</td>\n",
       "      <td>7.933450e+04</td>\n",
       "      <td>3647.000000</td>\n",
       "      <td>8.780500e+03</td>\n",
       "      <td>2.440000</td>\n",
       "      <td>3.713500e+03</td>\n",
       "    </tr>\n",
       "    <tr>\n",
       "      <th>50%</th>\n",
       "      <td>35.300000</td>\n",
       "      <td>5.098900e+04</td>\n",
       "      <td>5.270400e+04</td>\n",
       "      <td>1.044100e+05</td>\n",
       "      <td>5189.000000</td>\n",
       "      <td>1.857000e+04</td>\n",
       "      <td>2.650000</td>\n",
       "      <td>1.604100e+04</td>\n",
       "    </tr>\n",
       "    <tr>\n",
       "      <th>75%</th>\n",
       "      <td>38.100000</td>\n",
       "      <td>8.086600e+04</td>\n",
       "      <td>8.524100e+04</td>\n",
       "      <td>1.685745e+05</td>\n",
       "      <td>8913.500000</td>\n",
       "      <td>3.332600e+04</td>\n",
       "      <td>2.965000</td>\n",
       "      <td>6.237800e+04</td>\n",
       "    </tr>\n",
       "    <tr>\n",
       "      <th>max</th>\n",
       "      <td>70.500000</td>\n",
       "      <td>4.081698e+06</td>\n",
       "      <td>4.468707e+06</td>\n",
       "      <td>8.550405e+06</td>\n",
       "      <td>156961.000000</td>\n",
       "      <td>3.212500e+06</td>\n",
       "      <td>4.980000</td>\n",
       "      <td>3.835726e+06</td>\n",
       "    </tr>\n",
       "  </tbody>\n",
       "</table>\n",
       "</div>"
      ],
      "text/plain": [
       "       median_age  male_population  female_population  total_population  \\\n",
       "count  567.000000     5.670000e+02       5.670000e+02      5.670000e+02   \n",
       "mean    35.609524     9.563870e+04       1.000549e+05      1.958216e+05   \n",
       "std      4.535928     2.178510e+05       2.332341e+05      4.509442e+05   \n",
       "min     22.900000     0.000000e+00       0.000000e+00      6.321500e+04   \n",
       "25%     32.850000     3.872200e+04       4.087000e+04      7.933450e+04   \n",
       "50%     35.300000     5.098900e+04       5.270400e+04      1.044100e+05   \n",
       "75%     38.100000     8.086600e+04       8.524100e+04      1.685745e+05   \n",
       "max     70.500000     4.081698e+06       4.468707e+06      8.550405e+06   \n",
       "\n",
       "       number_of_veterans  foreign_born  average_household_size         count  \n",
       "count          567.000000  5.670000e+02              559.000000  5.670000e+02  \n",
       "mean          8996.287478  4.030597e+04                2.754329  6.090878e+04  \n",
       "std          12965.775494  1.570220e+05                0.442436  2.102389e+05  \n",
       "min              0.000000  0.000000e+00                2.000000  2.030000e+02  \n",
       "25%           3647.000000  8.780500e+03                2.440000  3.713500e+03  \n",
       "50%           5189.000000  1.857000e+04                2.650000  1.604100e+04  \n",
       "75%           8913.500000  3.332600e+04                2.965000  6.237800e+04  \n",
       "max         156961.000000  3.212500e+06                4.980000  3.835726e+06  "
      ]
     },
     "execution_count": 134,
     "metadata": {},
     "output_type": "execute_result"
    }
   ],
   "source": [
    "# descriptive stats\n",
    "demo.describe()"
   ]
  },
  {
   "cell_type": "code",
   "execution_count": 136,
   "metadata": {
    "editable": true
   },
   "outputs": [],
   "source": [
    "# export data\n",
    "demo.to_csv(r'/home/workspace/demo.csv', index = False)"
   ]
  },
  {
   "cell_type": "markdown",
   "metadata": {
    "editable": true
   },
   "source": [
    "# 3. ETL simulation"
   ]
  },
  {
   "cell_type": "markdown",
   "metadata": {
    "editable": true
   },
   "source": [
    "Here we use Spark to perform data quality checks on the entire immigration dataset, and perform an ETL simulation with other datasets. Some data cleaning is also performed here so that we avoid any issues during ETL in Redshift. "
   ]
  },
  {
   "cell_type": "markdown",
   "metadata": {
    "editable": true
   },
   "source": [
    "### 3.1 Immigration data (entire dataset)"
   ]
  },
  {
   "cell_type": "code",
   "execution_count": 67,
   "metadata": {
    "editable": true
   },
   "outputs": [],
   "source": [
    "# write to parquet - all immigration data from year 2016\n",
    "# df_spark.write.parquet(\"sas_data\")\n",
    "\n",
    "# define sql functions and datetime conversion function\n",
    "from datetime import datetime, timedelta\n",
    "from pyspark.sql.functions import udf, col\n",
    "from pyspark.sql import types as T\n",
    "# convert date types (sas)\n",
    "def convert_datetime(x):\n",
    "    try:\n",
    "        start = datetime(1960, 1, 1)\n",
    "        return start + timedelta(days=int(x))\n",
    "    except:\n",
    "        return None\n",
    "\n",
    "# read SAS data with spark\n",
    "from pyspark.sql import SparkSession\n",
    "\n",
    "spark = SparkSession.builder.\\\n",
    "config(\"spark.jars.packages\",\"saurfang:spark-sas7bdat:2.0.0-s_2.11\")\\\n",
    ".enableHiveSupport().getOrCreate()"
   ]
  },
  {
   "cell_type": "code",
   "execution_count": 68,
   "metadata": {
    "editable": true
   },
   "outputs": [],
   "source": [
    "# read data\n",
    "immigration = spark.read.parquet(\"sas_data\")"
   ]
  },
  {
   "cell_type": "code",
   "execution_count": 69,
   "metadata": {
    "editable": true
   },
   "outputs": [
    {
     "name": "stdout",
     "output_type": "stream",
     "text": [
      "root\n",
      " |-- cicid: double (nullable = true)\n",
      " |-- i94yr: double (nullable = true)\n",
      " |-- i94mon: double (nullable = true)\n",
      " |-- i94cit: double (nullable = true)\n",
      " |-- i94res: double (nullable = true)\n",
      " |-- i94port: string (nullable = true)\n",
      " |-- arrdate: double (nullable = true)\n",
      " |-- i94mode: double (nullable = true)\n",
      " |-- i94addr: string (nullable = true)\n",
      " |-- depdate: double (nullable = true)\n",
      " |-- i94bir: double (nullable = true)\n",
      " |-- i94visa: double (nullable = true)\n",
      " |-- count: double (nullable = true)\n",
      " |-- dtadfile: string (nullable = true)\n",
      " |-- visapost: string (nullable = true)\n",
      " |-- occup: string (nullable = true)\n",
      " |-- entdepa: string (nullable = true)\n",
      " |-- entdepd: string (nullable = true)\n",
      " |-- entdepu: string (nullable = true)\n",
      " |-- matflag: string (nullable = true)\n",
      " |-- biryear: double (nullable = true)\n",
      " |-- dtaddto: string (nullable = true)\n",
      " |-- gender: string (nullable = true)\n",
      " |-- insnum: string (nullable = true)\n",
      " |-- airline: string (nullable = true)\n",
      " |-- admnum: double (nullable = true)\n",
      " |-- fltno: string (nullable = true)\n",
      " |-- visatype: string (nullable = true)\n",
      "\n"
     ]
    }
   ],
   "source": [
    "# print schema\n",
    "immigration.printSchema()"
   ]
  },
  {
   "cell_type": "code",
   "execution_count": 70,
   "metadata": {
    "editable": true
   },
   "outputs": [
    {
     "name": "stdout",
     "output_type": "stream",
     "text": [
      "+--------+\n",
      "|count(1)|\n",
      "+--------+\n",
      "| 3096313|\n",
      "+--------+\n",
      "\n"
     ]
    }
   ],
   "source": [
    "# check immigration file for further s3 load\n",
    "immigration.createOrReplaceTempView(\"immigration_first_test\")\n",
    "spark.sql('''\n",
    "          SELECT COUNT(*)\n",
    "          FROM immigration_first_test \n",
    "          '''\n",
    "          ).show()"
   ]
  },
  {
   "cell_type": "code",
   "execution_count": 71,
   "metadata": {
    "editable": true
   },
   "outputs": [],
   "source": [
    "# change date format\n",
    "udf_datetime_from_sas = udf(lambda x: convert_datetime(x), T.DateType())\n",
    "immigration = immigration.withColumn(\"arrival_date\", udf_datetime_from_sas(\"arrdate\"))\n",
    "immigration = immigration.withColumn(\"departure_date\", udf_datetime_from_sas(\"depdate\"))\n",
    "immigration = immigration.select(col(\"cicid\"), col(\"i94yr\"), col(\"i94mon\"), col(\"i94port\"), \\\n",
    "                                col(\"i94mode\"), col(\"i94addr\"),\\\n",
    "                                col(\"i94bir\"), col(\"i94visa\"), col(\"biryear\"),\\\n",
    "                                col(\"gender\"), col(\"visatype\"), col(\"arrival_date\"),\\\n",
    "                                col(\"departure_date\")).distinct()"
   ]
  },
  {
   "cell_type": "code",
   "execution_count": 7,
   "metadata": {
    "editable": true
   },
   "outputs": [],
   "source": [
    "# check immigration file for further s3 load\n",
    "immigration.createOrReplaceTempView(\"immigration_cleaned\")"
   ]
  },
  {
   "cell_type": "code",
   "execution_count": 11,
   "metadata": {
    "editable": true
   },
   "outputs": [
    {
     "name": "stdout",
     "output_type": "stream",
     "text": [
      "+--------+\n",
      "|count(1)|\n",
      "+--------+\n",
      "| 3096313|\n",
      "+--------+\n",
      "\n"
     ]
    }
   ],
   "source": [
    "# check count\n",
    "spark.sql('''\n",
    "          SELECT COUNT(*)\n",
    "          FROM immigration_cleaned \n",
    "          '''\n",
    "          ).show()"
   ]
  },
  {
   "cell_type": "code",
   "execution_count": 8,
   "metadata": {
    "editable": true
   },
   "outputs": [
    {
     "name": "stdout",
     "output_type": "stream",
     "text": [
      "+------------+--------------+\n",
      "|arrival_date|departure_date|\n",
      "+------------+--------------+\n",
      "|  2016-04-01|    2016-04-10|\n",
      "+------------+--------------+\n",
      "\n"
     ]
    }
   ],
   "source": [
    "# check data types\n",
    "spark.sql('''\n",
    "          SELECT arrival_date, departure_date\n",
    "          FROM immigration_cleaned \n",
    "          LIMIT 1\n",
    "          '''\n",
    "          ).show()"
   ]
  },
  {
   "cell_type": "code",
   "execution_count": 9,
   "metadata": {
    "editable": true
   },
   "outputs": [],
   "source": [
    "# write immigration data to parquet file\n",
    "immigration.write.parquet(\"/home/workspace/immigration\")"
   ]
  },
  {
   "cell_type": "markdown",
   "metadata": {
    "editable": true
   },
   "source": [
    "### 3.2. Airport"
   ]
  },
  {
   "cell_type": "code",
   "execution_count": 90,
   "metadata": {
    "editable": true
   },
   "outputs": [
    {
     "name": "stdout",
     "output_type": "stream",
     "text": [
      "+--------+\n",
      "|count(1)|\n",
      "+--------+\n",
      "|   52998|\n",
      "+--------+\n",
      "\n"
     ]
    }
   ],
   "source": [
    "# read file\n",
    "airport = spark.read.format(\"csv\").option(\"header\",\"true\").load(\"airport.csv\")\n",
    "# drop duplicates\n",
    "airport = airport.dropDuplicates(['local_code'])\n",
    "# Check size\n",
    "airport.createOrReplaceTempView(\"airport_cleaned\")\n",
    "spark.sql('''\n",
    "                    SELECT COUNT(*)\n",
    "                    from airport_cleaned\n",
    "''').show()"
   ]
  },
  {
   "cell_type": "markdown",
   "metadata": {
    "editable": true
   },
   "source": [
    "### 3.3. Temperature"
   ]
  },
  {
   "cell_type": "code",
   "execution_count": 85,
   "metadata": {
    "editable": true
   },
   "outputs": [],
   "source": [
    "# read file\n",
    "temp = spark.read.format(\"csv\").option(\"header\",\"true\").load(\"GlobalLandTemperaturesByCity.csv\")\n",
    "temp.createOrReplaceTempView(\"temp_cleaned\")\n",
    "# Select relevant columns and rows\n",
    "temp = spark.sql('''\n",
    "                    SELECT dt, \n",
    "                     EXTRACT(year FROM dt) as year,\n",
    "                     EXTRACT(month FROM dt) as month,\n",
    "                     AverageTemperature, \n",
    "                     LOWER(City) as city\n",
    "                     FROM temp_cleaned \n",
    "                     WHERE EXTRACT(year FROM dt) = 2012\n",
    "                   \n",
    "''')\n",
    "# drop duplicates\n",
    "temp = temp.dropDuplicates(['City'])"
   ]
  },
  {
   "cell_type": "code",
   "execution_count": 86,
   "metadata": {
    "editable": true
   },
   "outputs": [
    {
     "name": "stdout",
     "output_type": "stream",
     "text": [
      "+--------+\n",
      "|count(1)|\n",
      "+--------+\n",
      "|    3448|\n",
      "+--------+\n",
      "\n"
     ]
    }
   ],
   "source": [
    "# Check size\n",
    "temp.createOrReplaceTempView(\"temp\")\n",
    "spark.sql('''\n",
    "                    SELECT COUNT(*)\n",
    "                    from temp\n",
    "''').show()"
   ]
  },
  {
   "cell_type": "markdown",
   "metadata": {
    "editable": true
   },
   "source": [
    "### 3.4. Demographics"
   ]
  },
  {
   "cell_type": "code",
   "execution_count": 89,
   "metadata": {
    "editable": true
   },
   "outputs": [
    {
     "name": "stdout",
     "output_type": "stream",
     "text": [
      "+--------+\n",
      "|count(1)|\n",
      "+--------+\n",
      "|     567|\n",
      "+--------+\n",
      "\n"
     ]
    }
   ],
   "source": [
    "# read file\n",
    "demo = spark.read.format(\"csv\").option(\"header\",\"true\").load(\"demo.csv\")\n",
    "demo.createOrReplaceTempView(\"demo_cleaned\")\n",
    "\n",
    "# select relevant columns\n",
    "demo = spark.sql('''\n",
    "                    SELECT LOWER(city) as city,\n",
    "                    median_age,\n",
    "                    male_population as male_pop,\n",
    "                    female_population as fem_pop,\n",
    "                    total_population as total_pop,\n",
    "                    foreign_born\n",
    "                    FROM demo_cleaned\n",
    "''')\n",
    "# drop duplicates\n",
    "demo = demo.dropDuplicates(['City'])\n",
    "# clean demographics data and select columns of interest\n",
    "demo.createOrReplaceTempView(\"demo\")\n",
    "# Check size\n",
    "spark.sql('''\n",
    "                    SELECT COUNT(*)\n",
    "                    from demo\n",
    "''').show()"
   ]
  },
  {
   "cell_type": "markdown",
   "metadata": {
    "editable": true
   },
   "source": [
    "## 4. Joining tables\n",
    "In this section, we perform data cleaning and joins to check how the final table would look like. If everything goes well, we are ready to ingest raw data in S3, perform ETL, and deliver the data to the DW in Redshift."
   ]
  },
  {
   "cell_type": "code",
   "execution_count": 91,
   "metadata": {
    "editable": true
   },
   "outputs": [],
   "source": [
    "# create temporary view\n",
    "airport.createOrReplaceTempView(\"airport1\")\n",
    "demo.createOrReplaceTempView(\"demo1\")\n",
    "temp.createOrReplaceTempView(\"temp1\")\n",
    "immigration.createOrReplaceTempView(\"immigration1\")"
   ]
  },
  {
   "cell_type": "code",
   "execution_count": null,
   "metadata": {
    "editable": true
   },
   "outputs": [],
   "source": [
    "# JOINS - This will be the query to produce the table to the analytics department.\n",
    "spark.sql('''\n",
    "        SELECT i.cicid, i.i94yr, i.i94mon, i.i94port, i.i94mode, i.i94addr, i.i94bir, i.i94visa,\n",
    "        i.biryear, i.gender, i.visatype, \n",
    "        i.arrival_date, i.departure_date, \n",
    "        a.airport_type, a.airport_name, a.iso_region, a.local_code, \n",
    "        t.AverageTemperature, t.city, \n",
    "        d.median_age, d.male_pop, d.fem_pop, d.total_pop, d.foreign_born\n",
    "        FROM immigration1 i\n",
    "        LEFT JOIN airport1 a\n",
    "        ON i.i94port = a.local_code\n",
    "        LEFT JOIN temp1 t\n",
    "        ON a.municipality = t.city\n",
    "        AND i.i94mon = t.month\n",
    "        LEFT JOIN demo1 d\n",
    "        ON a.municipality = d.city\n",
    "        LIMIT 5\n",
    "''').toPandas()"
   ]
  },
  {
   "cell_type": "code",
   "execution_count": 96,
   "metadata": {
    "editable": true
   },
   "outputs": [
    {
     "name": "stdout",
     "output_type": "stream",
     "text": [
      "+--------+\n",
      "|count(1)|\n",
      "+--------+\n",
      "| 3096313|\n",
      "+--------+\n",
      "\n"
     ]
    }
   ],
   "source": [
    "# Check how many entries the final table has\n",
    "spark.sql('''\n",
    "        SELECT COUNT(*)\n",
    "        FROM immigration1 i\n",
    "        LEFT JOIN airport1 a\n",
    "        ON i.i94port = a.local_code\n",
    "        LEFT JOIN temp1 t\n",
    "        ON a.municipality = t.city\n",
    "        AND i.i94mon = t.month\n",
    "        LEFT JOIN demo1 d\n",
    "        ON a.municipality = d.city\n",
    "''').show()"
   ]
  },
  {
   "cell_type": "markdown",
   "metadata": {
    "editable": true
   },
   "source": [
    "Great! Seems like our joins have worked. We are ready to create our Redshift cluster; instructions are described in the `create_cluster.ipynb` at this repository."
   ]
  },
  {
   "cell_type": "code",
   "execution_count": null,
   "metadata": {
    "editable": true
   },
   "outputs": [],
   "source": []
  }
 ],
 "metadata": {
  "kernelspec": {
   "display_name": "Python 3",
   "language": "python",
   "name": "python3"
  },
  "language_info": {
   "codemirror_mode": {
    "name": "ipython",
    "version": 3
   },
   "file_extension": ".py",
   "mimetype": "text/x-python",
   "name": "python",
   "nbconvert_exporter": "python",
   "pygments_lexer": "ipython3",
   "version": "3.6.3"
  }
 },
 "nbformat": 4,
 "nbformat_minor": 4
}
